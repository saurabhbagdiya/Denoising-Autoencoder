{
  "nbformat": 4,
  "nbformat_minor": 0,
  "metadata": {
    "colab": {
      "name": "Denoising_ConvolutionAutoEncoder.ipynb",
      "provenance": [],
      "collapsed_sections": [],
      "toc_visible": true
    },
    "kernelspec": {
      "name": "python3",
      "display_name": "Python 3"
    }
  },
  "cells": [
    {
      "cell_type": "code",
      "metadata": {
        "id": "fBlOUYsu61wx",
        "colab_type": "code",
        "outputId": "dfb2011e-9dda-4980-e8c8-49ee5ff28d4c",
        "colab": {
          "base_uri": "https://localhost:8080/",
          "height": 1000
        }
      },
      "source": [
        "from tensorflow.keras.optimizers import Adam\n",
        "from tensorflow.keras.models import *\n",
        "from tensorflow.keras.layers import *\n",
        "from tensorflow.keras.datasets import mnist\n",
        "import matplotlib.pyplot as plt\n",
        "import numpy as np\n",
        "import argparse\n",
        "import cv2\n",
        "epoch = 30\n",
        "batchSize = 128\n",
        "latentDim = 16\n",
        "\n",
        "\n",
        "((trainX, trainY), (testX, testY)) = mnist.load_data()\n",
        "print(\"Number of training data points\",len(trainX))\n",
        "print(\"Number of test data points\",len(testX))\n",
        "\n",
        "trainX = np.expand_dims(trainX, axis=-1)\n",
        "testX = np.expand_dims(testX, axis=-1)\n",
        "trainX = trainX.astype(\"float32\") / 255.0\n",
        "testX = testX.astype(\"float32\") / 255.0\n",
        "\n",
        "#Adding noise to data with mean as 0.5 and std as 0.5\n",
        "trainNoise = np.random.normal(loc=0.5, scale=0.5, size=trainX.shape)\n",
        "testNoise = np.random.normal(loc=0.5, scale=0.5, size=testX.shape)\n",
        "trainXNoisy = np.clip(trainX + trainNoise, 0, 1)\n",
        "testXNoisy = np.clip(testX + testNoise, 0, 1)\n",
        "\n",
        "#Model\n",
        "inputShape=trainX[0].shape\n",
        "\n",
        "def convLayer(filters,kernel_size,\n",
        "              strides,layer):\n",
        "  layer = Conv2D(filters,\n",
        "               kernel_size,strides,\n",
        "               activation='relu',padding='same')(layer)\n",
        "  layer=MaxPooling2D(pool_size = (2,2), strides = 2)(layer)\n",
        "  return layer\n",
        "\n",
        "def convTranspose(filters,\n",
        "               kernel_size,strides,\n",
        "               activation,padding,layer):\n",
        "  layer=Conv2DTranspose(filters=filters,\n",
        "                        kernel_size=kernel_size,\n",
        "                        strides=2,activation=activation,\n",
        "                        padding='same')(layer)\n",
        "  return layer\n",
        "\n",
        "inputs = Input(shape=inputShape)\n",
        "layer=convLayer(16,3,1,inputs)\n",
        "layer=convLayer(32,3,1,layer)\n",
        "\n",
        "#Latent Space\n",
        "layer = Flatten()(layer)\n",
        "encoded = Dense(latentDim)(layer)\n",
        "\n",
        "layer = Dense(1568, activation='relu')(encoded)\n",
        "layer = Reshape((7, 7, 32))(layer)\n",
        "\n",
        "\n",
        "layer=convTranspose(32,3,2,'relu','same',layer)\n",
        "layer=convTranspose(16,3,2,'relu','same',layer)\n",
        "output=Conv2DTranspose(filters=1,\n",
        "                        kernel_size=3,\n",
        "                        activation='relu',\n",
        "                        padding='same')(layer)\n",
        "\n",
        "autoencoder = Model(inputs, output, name='autoencoder')\n",
        "autoencoder.summary()\n",
        "\n",
        "autoencoder.compile(loss='mse', optimizer='adam')\n",
        "\n",
        "autoencoder.fit(trainXNoisy,\n",
        "                trainX,\n",
        "                validation_data=(testXNoisy, testX),\n",
        "                epochs=30,\n",
        "                batch_size=128)\n",
        "\n",
        "x_decoded = autoencoder.predict(testXNoisy)\n"
      ],
      "execution_count": 0,
      "outputs": [
        {
          "output_type": "stream",
          "text": [
            "Number of training data points 60000\n",
            "Number of test data points 10000\n",
            "Model: \"autoencoder\"\n",
            "_________________________________________________________________\n",
            "Layer (type)                 Output Shape              Param #   \n",
            "=================================================================\n",
            "input_14 (InputLayer)        [(None, 28, 28, 1)]       0         \n",
            "_________________________________________________________________\n",
            "conv2d_26 (Conv2D)           (None, 28, 28, 16)        160       \n",
            "_________________________________________________________________\n",
            "max_pooling2d_26 (MaxPooling (None, 14, 14, 16)        0         \n",
            "_________________________________________________________________\n",
            "conv2d_27 (Conv2D)           (None, 14, 14, 32)        4640      \n",
            "_________________________________________________________________\n",
            "max_pooling2d_27 (MaxPooling (None, 7, 7, 32)          0         \n",
            "_________________________________________________________________\n",
            "flatten_3 (Flatten)          (None, 1568)              0         \n",
            "_________________________________________________________________\n",
            "dense_6 (Dense)              (None, 16)                25104     \n",
            "_________________________________________________________________\n",
            "dense_7 (Dense)              (None, 1568)              26656     \n",
            "_________________________________________________________________\n",
            "reshape_3 (Reshape)          (None, 7, 7, 32)          0         \n",
            "_________________________________________________________________\n",
            "conv2d_transpose_34 (Conv2DT (None, 14, 14, 32)        9248      \n",
            "_________________________________________________________________\n",
            "conv2d_transpose_35 (Conv2DT (None, 28, 28, 16)        4624      \n",
            "_________________________________________________________________\n",
            "conv2d_transpose_36 (Conv2DT (None, 28, 28, 1)         145       \n",
            "=================================================================\n",
            "Total params: 70,577\n",
            "Trainable params: 70,577\n",
            "Non-trainable params: 0\n",
            "_________________________________________________________________\n",
            "Epoch 1/30\n",
            "469/469 [==============================] - 67s 142ms/step - loss: 0.0476 - val_loss: 0.0284\n",
            "Epoch 2/30\n",
            "469/469 [==============================] - 67s 142ms/step - loss: 0.0252 - val_loss: 0.0226\n",
            "Epoch 3/30\n",
            "469/469 [==============================] - 67s 142ms/step - loss: 0.0221 - val_loss: 0.0210\n",
            "Epoch 4/30\n",
            "469/469 [==============================] - 67s 142ms/step - loss: 0.0206 - val_loss: 0.0197\n",
            "Epoch 5/30\n",
            "469/469 [==============================] - 67s 142ms/step - loss: 0.0196 - val_loss: 0.0191\n",
            "Epoch 6/30\n",
            "469/469 [==============================] - 66s 142ms/step - loss: 0.0190 - val_loss: 0.0187\n",
            "Epoch 7/30\n",
            "469/469 [==============================] - 67s 142ms/step - loss: 0.0185 - val_loss: 0.0181\n",
            "Epoch 8/30\n",
            "469/469 [==============================] - 67s 142ms/step - loss: 0.0181 - val_loss: 0.0179\n",
            "Epoch 9/30\n",
            "469/469 [==============================] - 70s 149ms/step - loss: 0.0178 - val_loss: 0.0175\n",
            "Epoch 10/30\n",
            "469/469 [==============================] - 66s 141ms/step - loss: 0.0175 - val_loss: 0.0175\n",
            "Epoch 11/30\n",
            "469/469 [==============================] - 66s 141ms/step - loss: 0.0173 - val_loss: 0.0172\n",
            "Epoch 12/30\n",
            "469/469 [==============================] - 66s 141ms/step - loss: 0.0171 - val_loss: 0.0171\n",
            "Epoch 13/30\n",
            "469/469 [==============================] - 68s 144ms/step - loss: 0.0169 - val_loss: 0.0168\n",
            "Epoch 14/30\n",
            "469/469 [==============================] - 67s 142ms/step - loss: 0.0167 - val_loss: 0.0167\n",
            "Epoch 15/30\n",
            "469/469 [==============================] - 66s 142ms/step - loss: 0.0166 - val_loss: 0.0167\n",
            "Epoch 16/30\n",
            "469/469 [==============================] - 67s 142ms/step - loss: 0.0165 - val_loss: 0.0166\n",
            "Epoch 17/30\n",
            "469/469 [==============================] - 67s 142ms/step - loss: 0.0164 - val_loss: 0.0166\n",
            "Epoch 18/30\n",
            "469/469 [==============================] - 70s 148ms/step - loss: 0.0163 - val_loss: 0.0164\n",
            "Epoch 19/30\n",
            "469/469 [==============================] - 67s 143ms/step - loss: 0.0162 - val_loss: 0.0164\n",
            "Epoch 20/30\n",
            "469/469 [==============================] - 67s 143ms/step - loss: 0.0161 - val_loss: 0.0163\n",
            "Epoch 21/30\n",
            "469/469 [==============================] - 67s 142ms/step - loss: 0.0160 - val_loss: 0.0162\n",
            "Epoch 22/30\n",
            "469/469 [==============================] - 67s 143ms/step - loss: 0.0160 - val_loss: 0.0163\n",
            "Epoch 23/30\n",
            "469/469 [==============================] - 67s 142ms/step - loss: 0.0159 - val_loss: 0.0163\n",
            "Epoch 24/30\n",
            "469/469 [==============================] - 67s 142ms/step - loss: 0.0159 - val_loss: 0.0161\n",
            "Epoch 25/30\n",
            "469/469 [==============================] - 67s 142ms/step - loss: 0.0158 - val_loss: 0.0161\n",
            "Epoch 26/30\n",
            "469/469 [==============================] - 66s 141ms/step - loss: 0.0158 - val_loss: 0.0162\n",
            "Epoch 27/30\n",
            "469/469 [==============================] - 67s 142ms/step - loss: 0.0157 - val_loss: 0.0160\n",
            "Epoch 28/30\n",
            "469/469 [==============================] - 70s 149ms/step - loss: 0.0157 - val_loss: 0.0160\n",
            "Epoch 29/30\n",
            "469/469 [==============================] - 66s 141ms/step - loss: 0.0157 - val_loss: 0.0161\n",
            "Epoch 30/30\n",
            "469/469 [==============================] - 66s 141ms/step - loss: 0.0156 - val_loss: 0.0160\n"
          ],
          "name": "stdout"
        }
      ]
    },
    {
      "cell_type": "code",
      "metadata": {
        "id": "sNJumR06M-EA",
        "colab_type": "code",
        "colab": {}
      },
      "source": [
        "autoencoder.save_weights('/content/Denoising_ConvolutionAutoEncoderWeights.hdf5')"
      ],
      "execution_count": 0,
      "outputs": []
    },
    {
      "cell_type": "markdown",
      "metadata": {
        "id": "wEO28KR4yJEN",
        "colab_type": "text"
      },
      "source": [
        "## Predicions on Test Data\n"
      ]
    },
    {
      "cell_type": "code",
      "metadata": {
        "id": "SNpg9ZSNwQ17",
        "colab_type": "code",
        "outputId": "99544d73-7572-43ca-8d72-53e00a60407a",
        "colab": {
          "base_uri": "https://localhost:8080/",
          "height": 536
        }
      },
      "source": [
        "index=[]\n",
        "nrows=2\n",
        "ncols=2\n",
        "\n",
        "plt.figure(figsize=(8,4))\n",
        "fig, ax = plt.subplots(nrows=2, ncols=2)\n",
        "\n",
        "for i in range(1,nrows*ncols+1):\n",
        "  plt.subplot(2, 2, i)\n",
        "  idx = np.random.randint(0,10)\n",
        "  index.append(idx)\n",
        "  img = testXNoisy[idx]\n",
        "  plt.imshow(np.squeeze(img),cmap='gray')\n",
        "plt.show()\n",
        "\n",
        "for i in range(1,nrows*ncols+1):\n",
        "  plt.subplot(2, 2, i)\n",
        "  img = testXNoisy[index[i-1]]\n",
        "  img = np.expand_dims(img, axis=0)\n",
        "  img = np.expand_dims(img, axis=-1)\n",
        "  plt.imshow(np.squeeze(autoencoder.predict(img)),cmap='gray')\n",
        "plt.show()\n"
      ],
      "execution_count": 0,
      "outputs": [
        {
          "output_type": "display_data",
          "data": {
            "text/plain": [
              "<Figure size 576x288 with 0 Axes>"
            ]
          },
          "metadata": {
            "tags": []
          }
        },
        {
          "output_type": "display_data",
          "data": {
            "image/png": "[encoded data removed]",
            "text/plain": [
              "<Figure size 432x288 with 4 Axes>"
            ]
          },
          "metadata": {
            "tags": []
          }
        },
        {
          "output_type": "display_data",
          "data": {
            "image/png": "[encoded data removed]",
            "text/plain": [
              "<Figure size 432x288 with 4 Axes>"
            ]
          },
          "metadata": {
            "tags": []
          }
        }
      ]
    },
    {
      "cell_type": "code",
      "metadata": {
        "id": "NJiKJsPcTKWl",
        "colab_type": "code",
        "outputId": "ee23b9a7-7545-46ef-bc5e-8997040b0550",
        "colab": {
          "base_uri": "https://localhost:8080/",
          "height": 34
        }
      },
      "source": [
        "index"
      ],
      "execution_count": 0,
      "outputs": [
        {
          "output_type": "execute_result",
          "data": {
            "text/plain": [
              "[9, 0, 2, 7]"
            ]
          },
          "metadata": {
            "tags": []
          },
          "execution_count": 88
        }
      ]
    }
  ]
}